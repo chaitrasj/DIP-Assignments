{
  "cells": [
    {
      "cell_type": "markdown",
      "metadata": {
        "id": "view-in-github",
        "colab_type": "text"
      },
      "source": [
        "<a href=\"https://colab.research.google.com/github/chaitrasj/DIP-Assignments/blob/master/assignment.ipynb\" target=\"_parent\"><img src=\"https://colab.research.google.com/assets/colab-badge.svg\" alt=\"Open In Colab\"/></a>"
      ]
    },
    {
      "cell_type": "markdown",
      "metadata": {
        "id": "I-Wq4BM0NjSy"
      },
      "source": [
        "### Assignment - 1"
      ]
    },
    {
      "cell_type": "code",
      "source": [
        "import numpy as np\n",
        "import math\n",
        "from matplotlib import pyplot as plt"
      ],
      "metadata": {
        "id": "uIEyHtmIPkuy"
      },
      "execution_count": 1,
      "outputs": []
    },
    {
      "cell_type": "markdown",
      "metadata": {
        "id": "jzjePm70NjS2"
      },
      "source": [
        "(1) Generate a dataset [X,Y] as follows:\\\n",
        "For X, generate 10,000 samples randomly and uniformly in the range [0,1]. Now for Y, calculate Y = Y<sub>0</sub> + noise, \\\n",
        "where Y<sub>0</sub> = tanh(πx) and noise is to be generated randomly from a Gaussian distribution with mean = 0\\\n",
        "and standard deviation = 0.2."
      ]
    },
    {
      "cell_type": "code",
      "execution_count": 2,
      "metadata": {
        "id": "1PYQAC3JNjS3"
      },
      "outputs": [],
      "source": [
        "X = np.random.uniform(low = 0.0, high = 1.0,size=10000)\n",
        "Y0 = np.tanh(math.pi*X)\n",
        "N = np.random.normal(loc = 0, scale = 0.2,size=10000)\n",
        "y = Y0 + N\n",
        "D = np.vstack([X,y]).T\n"
      ]
    },
    {
      "cell_type": "markdown",
      "metadata": {
        "id": "zCwuVqfvNjS4"
      },
      "source": [
        "(2)Plot histogram of X to see how uniform the data is."
      ]
    },
    {
      "cell_type": "code",
      "execution_count": 3,
      "metadata": {
        "id": "6rXjBzOrNjS4",
        "colab": {
          "base_uri": "https://localhost:8080/",
          "height": 265
        },
        "outputId": "6d1dd1ca-21c7-4712-ff26-e3629e20fbd7"
      },
      "outputs": [
        {
          "output_type": "display_data",
          "data": {
            "text/plain": [
              "<Figure size 432x288 with 1 Axes>"
            ],
            "image/png": "[encoded data removed]"
          },
          "metadata": {
            "needs_background": "light"
          }
        }
      ],
      "source": [
        "plt.hist(X)\n",
        "plt.show()\n",
        "#Why is it not exactly uniform?"
      ]
    },
    {
      "cell_type": "markdown",
      "metadata": {
        "id": "aMndQSkHNjS5"
      },
      "source": [
        "(3) Split the dataset into Train (75%) and Test (25%) data."
      ]
    },
    {
      "cell_type": "markdown",
      "source": [
        ""
      ],
      "metadata": {
        "id": "LCrQ7717fJmY"
      }
    },
    {
      "cell_type": "code",
      "execution_count": null,
      "metadata": {
        "id": "u7si-nFrNjS5"
      },
      "outputs": [],
      "source": [
        "np.random.seed(42)\n",
        "indices = np.random.permutation(D.shape[0])\n",
        "training_idx, test_idx = indices[:int(0.75*D.shape[0])], indices[int(0.75*D.shape[0]):]\n",
        "X_train, y_train, X_test, y_test = D[training_idx,0][:,np.newaxis], D[training_idx,1][:,np.newaxis], D[test_idx,0][:,np.newaxis],D[test_idx,1][:,np.newaxis]\n"
      ]
    },
    {
      "cell_type": "markdown",
      "metadata": {
        "id": "gi0QzGrTNjS5"
      },
      "source": [
        "(4) Write a code to minimize root mean\n",
        "square error (RMSE) cost function over the training set using Gradient Descent by taking a model of the form\\\n",
        "h(x) = w<sub>0</sub> + w<sub>1</sub>x + w<sub>2</sub>x<sup>2</sup> + ------- + w<sub>n</sub>x<sup>n</sup>.\\\n",
        "Choose an appropirate value for n, where n is the highest power of x taken.\\\n",
        "Use the final trained value of weights w to print RMSE on train data and test data respectively as follows\\\n",
        "Train RMSE error : [RMSE error value for train]\\\n",
        "Test RMSE error : [RMSE error value for test]\n",
        "\n",
        "Note: Write the code from scratch for the curve fitting steps. You are not supposed to use libraries like sklearn etc. Numpy can be used for array and matrix operations."
      ]
    },
    {
      "cell_type": "code",
      "execution_count": null,
      "metadata": {
        "id": "c2alky2BNjS6",
        "colab": {
          "base_uri": "https://localhost:8080/",
          "height": 1000
        },
        "outputId": "e117c9cb-f0f1-47a8-ce13-c860b581e8e7"
      },
      "outputs": [
        {
          "output_type": "stream",
          "name": "stdout",
          "text": [
            "Train RMSE error: 0.3351394849065743\n",
            "Train RMSE error: 0.23859375903412766\n",
            "Train RMSE error: 3.750665984329911e+45\n",
            "Train RMSE error: 4.528431949594351e+96\n",
            "Train RMSE error: 1.8096555558961532e+130\n"
          ]
        },
        {
          "output_type": "stream",
          "name": "stderr",
          "text": [
            "/usr/local/lib/python3.7/dist-packages/numpy/core/_methods.py:179: RuntimeWarning: overflow encountered in reduce\n",
            "  ret = umr_sum(arr, axis, dtype, out, keepdims, where=where)\n",
            "/usr/local/lib/python3.7/dist-packages/ipykernel_launcher.py:4: RuntimeWarning: overflow encountered in square\n",
            "  after removing the cwd from sys.path.\n"
          ]
        },
        {
          "output_type": "stream",
          "name": "stdout",
          "text": [
            "Train RMSE error: inf\n",
            "Train RMSE error: inf\n",
            "Train RMSE error: inf\n",
            "Train RMSE error: inf\n",
            "Train RMSE error: inf\n",
            "Train RMSE error: inf\n",
            "Train RMSE error: inf\n",
            "Train RMSE error: inf\n",
            "Train RMSE error: inf\n",
            "Train RMSE error: inf\n",
            "Train RMSE error: inf\n",
            "Train RMSE error: inf\n",
            "Train RMSE error: inf\n",
            "Train RMSE error: inf\n",
            "Train RMSE error: inf\n",
            "Train RMSE error: inf\n",
            "Train RMSE error: inf\n",
            "Train RMSE error: inf\n",
            "Train RMSE error: inf\n",
            "Train RMSE error: inf\n",
            "Train RMSE error: inf\n",
            "Train RMSE error: inf\n",
            "Train RMSE error: inf\n",
            "Train RMSE error: inf\n",
            "Train RMSE error: inf\n",
            "Train RMSE error: inf\n",
            "Train RMSE error: inf\n"
          ]
        },
        {
          "output_type": "stream",
          "name": "stderr",
          "text": [
            "/usr/local/lib/python3.7/dist-packages/ipykernel_launcher.py:7: RuntimeWarning: overflow encountered in multiply\n",
            "  import sys\n",
            "/usr/local/lib/python3.7/dist-packages/ipykernel_launcher.py:8: RuntimeWarning: invalid value encountered in multiply\n",
            "  \n"
          ]
        },
        {
          "output_type": "stream",
          "name": "stdout",
          "text": [
            "Train RMSE error: inf\n"
          ]
        },
        {
          "output_type": "stream",
          "name": "stderr",
          "text": [
            "/usr/local/lib/python3.7/dist-packages/ipykernel_launcher.py:16: RuntimeWarning: invalid value encountered in subtract\n",
            "  app.launch_new_instance()\n"
          ]
        },
        {
          "output_type": "stream",
          "name": "stdout",
          "text": [
            "Train RMSE error: nan\n",
            "Train RMSE error: nan\n",
            "Train RMSE error: nan\n",
            "Train RMSE error: nan\n",
            "Train RMSE error: nan\n",
            "Train RMSE error: nan\n",
            "Train RMSE error: nan\n",
            "Train RMSE error: nan\n",
            "Train RMSE error: nan\n",
            "Train RMSE error: nan\n",
            "Train RMSE error: nan\n",
            "Train RMSE error: nan\n",
            "Train RMSE error: nan\n",
            "Train RMSE error: nan\n",
            "Train RMSE error: nan\n",
            "Train RMSE error: nan\n",
            "Train RMSE error: nan\n",
            "Train RMSE error: nan\n"
          ]
        },
        {
          "output_type": "stream",
          "name": "stderr",
          "text": [
            "/usr/local/lib/python3.7/dist-packages/ipykernel_launcher.py:7: RuntimeWarning: overflow encountered in matmul\n",
            "  import sys\n"
          ]
        },
        {
          "output_type": "stream",
          "name": "stdout",
          "text": [
            "Train RMSE error: nan\n",
            "Train RMSE error: nan\n",
            "Train RMSE error: nan\n",
            "Train RMSE error: nan\n",
            "Train RMSE error: nan\n",
            "Train RMSE error: nan\n",
            "Train RMSE error: nan\n",
            "Train RMSE error: nan\n",
            "Train RMSE error: nan\n",
            "Train RMSE error: nan\n",
            "Train RMSE error: nan\n",
            "Train RMSE error: nan\n",
            "Train RMSE error: nan\n",
            "Train RMSE error: nan\n",
            "Train RMSE error: nan\n",
            "Train RMSE error: nan\n",
            "Train RMSE error: nan\n",
            "Train RMSE error: nan\n",
            "Train RMSE error: nan\n",
            "Train RMSE error: nan\n",
            "Train RMSE error: nan\n",
            "Train RMSE error: nan\n",
            "Train RMSE error: nan\n",
            "Train RMSE error: nan\n",
            "Train RMSE error: nan\n",
            "Train RMSE error: nan\n",
            "Train RMSE error: nan\n",
            "Train RMSE error: nan\n",
            "Train RMSE error: nan\n",
            "Train RMSE error: nan\n",
            "Train RMSE error: nan\n",
            "Train RMSE error: nan\n",
            "Train RMSE error: nan\n",
            "Train RMSE error: nan\n",
            "Train RMSE error: nan\n",
            "Train RMSE error: nan\n",
            "Train RMSE error: nan\n",
            "Train RMSE error: nan\n",
            "Train RMSE error: nan\n",
            "Train RMSE error: nan\n",
            "Train RMSE error: nan\n",
            "Train RMSE error: nan\n",
            "Train RMSE error: nan\n",
            "Train RMSE error: nan\n",
            "Train RMSE error: nan\n",
            "Train RMSE error: nan\n",
            "Train RMSE error: nan\n",
            "Train RMSE error: nan\n",
            "33.0\n"
          ]
        },
        {
          "output_type": "display_data",
          "data": {
            "text/plain": [
              "<Figure size 432x288 with 1 Axes>"
            ],
            "image/png": "[encoded data removed]"
          },
          "metadata": {
            "needs_background": "light"
          }
        }
      ],
      "source": [
        "max_iter = 1000\n",
        "lr = 0.0001\n",
        "def compute_rmse(gt,pred):\n",
        "  rmse = np.sqrt(np.mean((gt - pred)**2))\n",
        "  return rmse\n",
        "def compute_rmse_prime(gt,pred,X):\n",
        "  mse_prime = 2*np.matmul(X.T,(pred-gt))\n",
        "  rmse_prime = 1/(2*compute_rmse(gt,pred))  * mse_prime\n",
        "  return mse_prime\n",
        "\n",
        "def gradient_descent(weightmat,input,gt,iterations,lr):\n",
        "  for i in range(iterations):\n",
        "    pred = np.matmul(input,weightmat)\n",
        "    loss = compute_rmse(gt,pred)\n",
        "    dLbydW = compute_rmse_prime(gt,pred,input)\n",
        "    weightmat = weightmat - lr*dLbydW\n",
        "  return weightmat\n",
        "\n",
        "plot = []\n",
        "for npo in range(1,100):\n",
        "  powers = np.arange(npo)\n",
        "  n = powers[-1]\n",
        "  xs = np.repeat(X_train,np.shape(powers)[0],axis=1)\n",
        "  xtests = np.repeat(X_test,np.shape(powers)[0],axis=1)\n",
        "\n",
        "  raised = np.power(xs,powers)\n",
        "  raised_test = np.power(xtests,powers)\n",
        "  weightmat = np.random.normal(loc = 0, scale = 1,size=npo)[:,np.newaxis]\n",
        "  final_weights = gradient_descent(weightmat,raised,y_train,max_iter,lr)\n",
        "  train_error = compute_rmse(y_train,np.matmul(raised,final_weights))\n",
        "  test_error = compute_rmse(y_test,np.matmul(raised_test,final_weights))\n",
        "  \n",
        "  print(\"Train RMSE error:\", train_error)\n",
        "  # print(\"Test RMSE error:\", test_error)\n",
        "  plot.append([n,train_error])\n",
        "plot = np.array(plot)\n",
        "plt.plot(plot[:,0],plot[:,1])\n",
        "best_n = plot[np.argmin(plot[:,1]),0]\n",
        "print(best_n)\n",
        "  \n",
        "  \n"
      ]
    },
    {
      "cell_type": "markdown",
      "metadata": {
        "id": "LLeFR5HmNjS6"
      },
      "source": [
        "\n",
        "\n",
        "```\n",
        "# This is formatted as code\n",
        "```\n",
        "\n",
        "(5) Plot points of Y vs X, then on the same figure, plot h(x) so that it can be visualized how well h(x) fits points of Y."
      ]
    },
    {
      "cell_type": "code",
      "execution_count": null,
      "metadata": {
        "id": "aXeSBbEdNjS7",
        "colab": {
          "base_uri": "https://localhost:8080/",
          "height": 282
        },
        "outputId": "796e42aa-058d-48e0-958e-ba03cecf6c7e"
      },
      "outputs": [
        {
          "output_type": "execute_result",
          "data": {
            "text/plain": [
              "<matplotlib.collections.PathCollection at 0x7f0cc366b350>"
            ]
          },
          "metadata": {},
          "execution_count": 38
        },
        {
          "output_type": "display_data",
          "data": {
            "text/plain": [
              "<Figure size 432x288 with 1 Axes>"
            ],
            "image/png": "[encoded data removed]"
          },
          "metadata": {
            "needs_background": "light"
          }
        }
      ],
      "source": [
        "plt.scatter(X,y)"
      ]
    },
    {
      "cell_type": "markdown",
      "metadata": {
        "id": "GydDAcHiNjS7"
      },
      "source": [
        "(6) Generate another dataset [X,Y] as follows:\\\n",
        "For X, generate 10,000 samples randomly and uniformly in the range [0,5]. Now for Y, calculate Y = Y<sub>0</sub> + noise, \\\n",
        "where Y<sub>0</sub> =  -1.8(X-3.15)<sup>2</sup> and noise is to be generated randomly from a Gaussian distribution with mean = 0\\\n",
        "and standard deviation = 0.2."
      ]
    },
    {
      "cell_type": "code",
      "execution_count": null,
      "metadata": {
        "id": "oX4nUurzNjS8"
      },
      "outputs": [],
      "source": [
        "Xnew = np.random.uniform(low = 0.0, high = 5 ,size=10000)\n",
        "Y0new = -1.8 * (Xnew - 3.15)**2\n",
        "Nnew = np.random.normal(loc = 0, scale = 0.2,size=10000)\n",
        "ynew = Y0new + Nnew\n",
        "Dnew = np.vstack([Xnew,ynew]).T"
      ]
    },
    {
      "cell_type": "markdown",
      "metadata": {
        "id": "3FGPCKSdNjS8"
      },
      "source": [
        "(7) Repeat steps (2) to (5) to fit a curve of the form h(x) = w<sub>0</sub> + cos(w<sub>1</sub>x) + e<sup>w<sub>2</sub>-x</sup> for the dataset generated in (6). (Be careful with the initialisation of weights!) "
      ]
    },
    {
      "cell_type": "code",
      "execution_count": null,
      "metadata": {
        "id": "1udgaCnFNjS8"
      },
      "outputs": [],
      "source": [
        ""
      ]
    },
    {
      "cell_type": "markdown",
      "metadata": {
        "id": "S0VSJRe0NjS8"
      },
      "source": [
        "# Assignment - 2"
      ]
    },
    {
      "cell_type": "markdown",
      "metadata": {
        "id": "TOspFBYFNjS9"
      },
      "source": [
        "## Problem statement:   Minimize a quadratic equation\n",
        "\n",
        "Create a quadratic equation: $\\frac{1}{3} Ax^2 - bx$\n",
        "Lets do it step by step"
      ]
    },
    {
      "cell_type": "markdown",
      "metadata": {
        "id": "S3nXGoNWNjS9"
      },
      "source": [
        "Create a random (use rand library) matrix of size N x N which is \n",
        "1. Symmetric\n",
        "2. Positive\n",
        "3. Definite"
      ]
    },
    {
      "cell_type": "code",
      "execution_count": 44,
      "metadata": {
        "id": "TPWeG3PSNjS9"
      },
      "outputs": [],
      "source": [
        "N = 4\n",
        "lr = 0.1\n",
        "np.random.seed(42)\n",
        "L = np.tril(np.random.rand(N,N)) \n",
        "A = np.matmul(L,L.T)\n",
        "b = np.random.rand(N,1)\n"
      ]
    },
    {
      "cell_type": "markdown",
      "metadata": {
        "id": "bdgzq2jTNjS9"
      },
      "source": [
        "Define the Quadratic form as a python function named Qfun() as given in the problem statement"
      ]
    },
    {
      "cell_type": "code",
      "execution_count": 45,
      "metadata": {
        "id": "E7txCsO0NjS9"
      },
      "outputs": [],
      "source": [
        "def Qfun(x):\n",
        "    value = np.matmul(x.T,np.matmul(A,x))/3 - np.matmul(b.T,x)\n",
        "    \n",
        "    return value"
      ]
    },
    {
      "cell_type": "markdown",
      "metadata": {
        "id": "YZ__lGu2NjS-"
      },
      "source": [
        "Define one more python function dQfun() as the derivative of the quadratic function"
      ]
    },
    {
      "cell_type": "code",
      "execution_count": 46,
      "metadata": {
        "id": "LxQIbJfBNjS-"
      },
      "outputs": [],
      "source": [
        "def dQfun(x):\n",
        "    value = (2*np.matmul(A.T,x)/3) - b\n",
        "    return value"
      ]
    },
    {
      "cell_type": "markdown",
      "metadata": {
        "id": "xodOUPxXNjS-"
      },
      "source": [
        "Write a loop that does stochastic gradient descent for at least 15k iterations and print the final results"
      ]
    },
    {
      "cell_type": "code",
      "execution_count": 47,
      "metadata": {
        "id": "i2OYhwXANjS-",
        "colab": {
          "base_uri": "https://localhost:8080/"
        },
        "outputId": "1d10e44f-1750-44bf-9b4e-39e174adbbea"
      },
      "outputs": [
        {
          "output_type": "stream",
          "name": "stdout",
          "text": [
            "[[ 0.20039028]\n",
            " [-0.30752695]\n",
            " [ 0.34358952]\n",
            " [ 0.13855809]]\n"
          ]
        }
      ],
      "source": [
        "\n",
        "from cmath import inf\n",
        "cur_min = -inf\n",
        "import copy\n",
        "x_init = np.random.normal(loc = 0, scale = 1,size=N)[:,np.newaxis]\n",
        "x = x_init\n",
        "curr_min = Qfun(x)\n",
        "for i in range(1, 15000):    \n",
        "  curr_min = Qfun(x)\n",
        "  x_opt = x - lr*dQfun(x)\n",
        "  x = copy.deepcopy(x_opt)\n",
        "print(np.matmul(A,x) - b)\n",
        "\n"
      ]
    },
    {
      "cell_type": "code",
      "source": [
        "from cmath import inf\n",
        "cur_min = -inf\n",
        "import copy\n",
        "x_init = np.random.normal(loc = 0, scale = 1,size=N)[:,np.newaxis]\n",
        "x = x_init\n",
        "curr_min = Qfun(x)\n",
        "\n",
        "running_x = []\n",
        "for i in range(1, 150000):    \n",
        "  curr_min = Qfun(x)\n",
        "  x_opt = x - lr*dQfun(x)\n",
        "  x = copy.deepcopy(x_opt)\n",
        "  running_x.append(curr_min)\n",
        "  # np.linalg.norm(np.matmul(A,x)-b)"
      ],
      "metadata": {
        "id": "JZ-_oNz-LEJA"
      },
      "execution_count": 76,
      "outputs": []
    },
    {
      "cell_type": "markdown",
      "metadata": {
        "id": "Npp3bazcNjS-"
      },
      "source": [
        "Can you do the same above using torch optim package (1. conjugate gradient and 2. Stochastic gradient) and compare the result."
      ]
    },
    {
      "cell_type": "code",
      "execution_count": 77,
      "metadata": {
        "id": "cFWXkSeQNjS_",
        "colab": {
          "base_uri": "https://localhost:8080/"
        },
        "outputId": "fa06997b-14d1-43d2-9f5c-7c8564a644de"
      },
      "outputs": [
        {
          "output_type": "stream",
          "name": "stdout",
          "text": [
            "(149999,)\n"
          ]
        }
      ],
      "source": [
        "running_x = np.array(running_x).squeeze()\n",
        "print(running_x.shape)"
      ]
    },
    {
      "cell_type": "code",
      "source": [
        "running_x"
      ],
      "metadata": {
        "colab": {
          "base_uri": "https://localhost:8080/"
        },
        "id": "e13B_isfNr-i",
        "outputId": "2169533b-94c9-447b-c8a5-86d3bb3384e0"
      },
      "execution_count": 78,
      "outputs": [
        {
          "output_type": "execute_result",
          "data": {
            "text/plain": [
              "array([ 7.58048805e-01,  6.18125021e-01,  5.02650334e-01, ...,\n",
              "       -2.11755156e+03, -2.11756427e+03, -2.11757699e+03])"
            ]
          },
          "metadata": {},
          "execution_count": 78
        }
      ]
    },
    {
      "cell_type": "code",
      "source": [
        "plt.plot(np.arange(running_x.shape[0]),running_x)"
      ],
      "metadata": {
        "colab": {
          "base_uri": "https://localhost:8080/",
          "height": 283
        },
        "id": "PxIwlTQYNl8o",
        "outputId": "281c02be-28eb-47c1-a231-67a8fca164bd"
      },
      "execution_count": 57,
      "outputs": [
        {
          "output_type": "execute_result",
          "data": {
            "text/plain": [
              "[<matplotlib.lines.Line2D at 0x7f56fb21bdd0>]"
            ]
          },
          "metadata": {},
          "execution_count": 57
        },
        {
          "output_type": "display_data",
          "data": {
            "text/plain": [
              "<Figure size 432x288 with 1 Axes>"
            ],
            "image/png": "[encoded data removed]"
          },
          "metadata": {
            "needs_background": "light"
          }
        }
      ]
    },
    {
      "cell_type": "code",
      "source": [
        "# np.linalg.norm(np.matmul(A,x)-b)\n",
        "np.matmul(A,x)-b"
      ],
      "metadata": {
        "colab": {
          "base_uri": "https://localhost:8080/"
        },
        "id": "SjNoug3VP-Ju",
        "outputId": "8dfb937f-2a3c-4089-f71c-032835cfb1df"
      },
      "execution_count": 79,
      "outputs": [
        {
          "output_type": "execute_result",
          "data": {
            "text/plain": [
              "array([[ 0.19618211],\n",
              "       [-0.25783904],\n",
              "       [ 0.33246309],\n",
              "       [ 0.13917321]])"
            ]
          },
          "metadata": {},
          "execution_count": 79
        }
      ]
    },
    {
      "cell_type": "code",
      "source": [
        "from scipy.optimize import minimize\n",
        "x_init = np.random.normal(loc = 0, scale = 1,size=N)[:,np.newaxis]*0.1\n",
        "x_min = minimize(Qfun,x_init)"
      ],
      "metadata": {
        "id": "gnRLXpB_SwIo"
      },
      "execution_count": 81,
      "outputs": []
    },
    {
      "cell_type": "code",
      "source": [
        "x_init"
      ],
      "metadata": {
        "colab": {
          "base_uri": "https://localhost:8080/"
        },
        "id": "ayO8SDJPUm94",
        "outputId": "999a6961-3446-4af0-91b8-ab73b65acac7"
      },
      "execution_count": 80,
      "outputs": [
        {
          "output_type": "execute_result",
          "data": {
            "text/plain": [
              "array([[-0.01349722],\n",
              "       [-1.05771093],\n",
              "       [ 0.82254491],\n",
              "       [-1.22084365]])"
            ]
          },
          "metadata": {},
          "execution_count": 80
        }
      ]
    },
    {
      "cell_type": "code",
      "source": [
        "x_min.x"
      ],
      "metadata": {
        "colab": {
          "base_uri": "https://localhost:8080/"
        },
        "id": "wtVeq8bNTCB0",
        "outputId": "b5a7f132-cc71-4256-ffcc-0807a6d17865"
      },
      "execution_count": 83,
      "outputs": [
        {
          "output_type": "execute_result",
          "data": {
            "text/plain": [
              "array([ -4946.368952  ,  58441.63982357, -13084.17411206,    720.26286007])"
            ]
          },
          "metadata": {},
          "execution_count": 83
        }
      ]
    },
    {
      "cell_type": "code",
      "source": [
        "x_minimum = x_min.x\n",
        "np.matmul(A,x_minimum[:,np.newaxis])-b"
      ],
      "metadata": {
        "colab": {
          "base_uri": "https://localhost:8080/"
        },
        "id": "GL1IXlxTTOh-",
        "outputId": "dc2edea4-6c17-4639-d641-6546d39954f9"
      },
      "execution_count": 75,
      "outputs": [
        {
          "output_type": "execute_result",
          "data": {
            "text/plain": [
              "array([[-0.05249289],\n",
              "       [ 0.26744762],\n",
              "       [ 0.39386092],\n",
              "       [ 0.48379382]])"
            ]
          },
          "metadata": {},
          "execution_count": 75
        }
      ]
    },
    {
      "cell_type": "code",
      "source": [
        "print((x_minimum[:,np.newaxis]).shape)\n",
        "print(A.shape)\n",
        "print(b.shape)"
      ],
      "metadata": {
        "colab": {
          "base_uri": "https://localhost:8080/"
        },
        "id": "aPgUbVYYTlBW",
        "outputId": "96955631-ab56-4a5b-f86a-40fa8de0a585"
      },
      "execution_count": 74,
      "outputs": [
        {
          "output_type": "stream",
          "name": "stdout",
          "text": [
            "(4, 1)\n",
            "(4, 4)\n",
            "(4, 1)\n"
          ]
        }
      ]
    },
    {
      "cell_type": "code",
      "source": [
        "import torch\n",
        "# x_0 = torch.tensor(0., requires_grad = True)\n",
        "x_0 = torch.zeros((4,1), requires_grad = True)\n",
        "\n",
        "x = x_0\n",
        "optimizer = torch.optim.SGD([x], lr=0.1)\n",
        "steps = 30\n",
        "for i in range(steps):\n",
        "  optimizer.zero_grad()\n",
        "  # f = (x-1)**2\n",
        "  f = torch.matmul(x.T,torch.matmul(A,x))/3 - torch.matmul(b.T,x)\n",
        "  f.backward()\n",
        "  optimizer.step()\n",
        "  print(f'At step {i+1:2} the function value is {f.item(): 1.4f} and x={x: 0.4f}' )\n"
      ],
      "metadata": {
        "colab": {
          "base_uri": "https://localhost:8080/",
          "height": 240
        },
        "id": "VdOEOM8BV_z2",
        "outputId": "1ad662bf-e973-40ac-adf3-f31b4b0f59bc"
      },
      "execution_count": 87,
      "outputs": [
        {
          "output_type": "error",
          "ename": "TypeError",
          "evalue": "ignored",
          "traceback": [
            "\u001b[0;31m---------------------------------------------------------------------------\u001b[0m",
            "\u001b[0;31mTypeError\u001b[0m                                 Traceback (most recent call last)",
            "\u001b[0;32m<ipython-input-87-6714aad03a23>\u001b[0m in \u001b[0;36m<module>\u001b[0;34m\u001b[0m\n\u001b[1;32m      9\u001b[0m   \u001b[0moptimizer\u001b[0m\u001b[0;34m.\u001b[0m\u001b[0mzero_grad\u001b[0m\u001b[0;34m(\u001b[0m\u001b[0;34m)\u001b[0m\u001b[0;34m\u001b[0m\u001b[0;34m\u001b[0m\u001b[0m\n\u001b[1;32m     10\u001b[0m   \u001b[0;31m# f = (x-1)**2\u001b[0m\u001b[0;34m\u001b[0m\u001b[0;34m\u001b[0m\u001b[0;34m\u001b[0m\u001b[0m\n\u001b[0;32m---> 11\u001b[0;31m   \u001b[0mf\u001b[0m \u001b[0;34m=\u001b[0m \u001b[0mtorch\u001b[0m\u001b[0;34m.\u001b[0m\u001b[0mmatmul\u001b[0m\u001b[0;34m(\u001b[0m\u001b[0mx\u001b[0m\u001b[0;34m.\u001b[0m\u001b[0mT\u001b[0m\u001b[0;34m,\u001b[0m\u001b[0mtorch\u001b[0m\u001b[0;34m.\u001b[0m\u001b[0mmatmul\u001b[0m\u001b[0;34m(\u001b[0m\u001b[0mA\u001b[0m\u001b[0;34m,\u001b[0m\u001b[0mx\u001b[0m\u001b[0;34m)\u001b[0m\u001b[0;34m)\u001b[0m\u001b[0;34m/\u001b[0m\u001b[0;36m3\u001b[0m \u001b[0;34m-\u001b[0m \u001b[0mtorch\u001b[0m\u001b[0;34m.\u001b[0m\u001b[0mmatmul\u001b[0m\u001b[0;34m(\u001b[0m\u001b[0mb\u001b[0m\u001b[0;34m.\u001b[0m\u001b[0mT\u001b[0m\u001b[0;34m,\u001b[0m\u001b[0mx\u001b[0m\u001b[0;34m)\u001b[0m\u001b[0;34m\u001b[0m\u001b[0;34m\u001b[0m\u001b[0m\n\u001b[0m\u001b[1;32m     12\u001b[0m   \u001b[0mf\u001b[0m\u001b[0;34m.\u001b[0m\u001b[0mbackward\u001b[0m\u001b[0;34m(\u001b[0m\u001b[0;34m)\u001b[0m\u001b[0;34m\u001b[0m\u001b[0;34m\u001b[0m\u001b[0m\n\u001b[1;32m     13\u001b[0m   \u001b[0moptimizer\u001b[0m\u001b[0;34m.\u001b[0m\u001b[0mstep\u001b[0m\u001b[0;34m(\u001b[0m\u001b[0;34m)\u001b[0m\u001b[0;34m\u001b[0m\u001b[0;34m\u001b[0m\u001b[0m\n",
            "\u001b[0;31mTypeError\u001b[0m: matmul(): argument 'input' (position 1) must be Tensor, not numpy.ndarray"
          ]
        }
      ]
    },
    {
      "cell_type": "code",
      "source": [
        "import matplotlib.pyplot as plt\n",
        "# print(running_x[:,0].shape)\n",
        "# print(np.arange(running_x.shape[0]))\n",
        "fig=plt.figure(figsize=(10,10))\n",
        "plt.subplot(2,2,1)\n",
        "plt.plot(np.arange(running_x.shape[0]),running_x[:,0])\n",
        "plt.subplot(2,2,2)\n",
        "plt.plot(np.arange(running_x.shape[0]),running_x[:,1])\n",
        "plt.subplot(2,2,3)\n",
        "plt.plot(np.arange(running_x.shape[0]),running_x[:,2])\n",
        "plt.subplot(2,2,4)\n",
        "plt.plot(np.arange(running_x.shape[0]),running_x[:,3])"
      ],
      "metadata": {
        "colab": {
          "base_uri": "https://localhost:8080/",
          "height": 522
        },
        "id": "MN_YCebEL5Hw",
        "outputId": "8ad940a5-46b7-4ad6-806c-be2af5d7ef62"
      },
      "execution_count": 52,
      "outputs": [
        {
          "output_type": "error",
          "ename": "IndexError",
          "evalue": "ignored",
          "traceback": [
            "\u001b[0;31m---------------------------------------------------------------------------\u001b[0m",
            "\u001b[0;31mIndexError\u001b[0m                                Traceback (most recent call last)",
            "\u001b[0;32m<ipython-input-52-7080fca5f87d>\u001b[0m in \u001b[0;36m<module>\u001b[0;34m\u001b[0m\n\u001b[1;32m      4\u001b[0m \u001b[0mfig\u001b[0m\u001b[0;34m=\u001b[0m\u001b[0mplt\u001b[0m\u001b[0;34m.\u001b[0m\u001b[0mfigure\u001b[0m\u001b[0;34m(\u001b[0m\u001b[0mfigsize\u001b[0m\u001b[0;34m=\u001b[0m\u001b[0;34m(\u001b[0m\u001b[0;36m10\u001b[0m\u001b[0;34m,\u001b[0m\u001b[0;36m10\u001b[0m\u001b[0;34m)\u001b[0m\u001b[0;34m)\u001b[0m\u001b[0;34m\u001b[0m\u001b[0;34m\u001b[0m\u001b[0m\n\u001b[1;32m      5\u001b[0m \u001b[0mplt\u001b[0m\u001b[0;34m.\u001b[0m\u001b[0msubplot\u001b[0m\u001b[0;34m(\u001b[0m\u001b[0;36m2\u001b[0m\u001b[0;34m,\u001b[0m\u001b[0;36m2\u001b[0m\u001b[0;34m,\u001b[0m\u001b[0;36m1\u001b[0m\u001b[0;34m)\u001b[0m\u001b[0;34m\u001b[0m\u001b[0;34m\u001b[0m\u001b[0m\n\u001b[0;32m----> 6\u001b[0;31m \u001b[0mplt\u001b[0m\u001b[0;34m.\u001b[0m\u001b[0mplot\u001b[0m\u001b[0;34m(\u001b[0m\u001b[0mnp\u001b[0m\u001b[0;34m.\u001b[0m\u001b[0marange\u001b[0m\u001b[0;34m(\u001b[0m\u001b[0mrunning_x\u001b[0m\u001b[0;34m.\u001b[0m\u001b[0mshape\u001b[0m\u001b[0;34m[\u001b[0m\u001b[0;36m0\u001b[0m\u001b[0;34m]\u001b[0m\u001b[0;34m)\u001b[0m\u001b[0;34m,\u001b[0m\u001b[0mrunning_x\u001b[0m\u001b[0;34m[\u001b[0m\u001b[0;34m:\u001b[0m\u001b[0;34m,\u001b[0m\u001b[0;36m0\u001b[0m\u001b[0;34m]\u001b[0m\u001b[0;34m)\u001b[0m\u001b[0;34m\u001b[0m\u001b[0;34m\u001b[0m\u001b[0m\n\u001b[0m\u001b[1;32m      7\u001b[0m \u001b[0mplt\u001b[0m\u001b[0;34m.\u001b[0m\u001b[0msubplot\u001b[0m\u001b[0;34m(\u001b[0m\u001b[0;36m2\u001b[0m\u001b[0;34m,\u001b[0m\u001b[0;36m2\u001b[0m\u001b[0;34m,\u001b[0m\u001b[0;36m2\u001b[0m\u001b[0;34m)\u001b[0m\u001b[0;34m\u001b[0m\u001b[0;34m\u001b[0m\u001b[0m\n\u001b[1;32m      8\u001b[0m \u001b[0mplt\u001b[0m\u001b[0;34m.\u001b[0m\u001b[0mplot\u001b[0m\u001b[0;34m(\u001b[0m\u001b[0mnp\u001b[0m\u001b[0;34m.\u001b[0m\u001b[0marange\u001b[0m\u001b[0;34m(\u001b[0m\u001b[0mrunning_x\u001b[0m\u001b[0;34m.\u001b[0m\u001b[0mshape\u001b[0m\u001b[0;34m[\u001b[0m\u001b[0;36m0\u001b[0m\u001b[0;34m]\u001b[0m\u001b[0;34m)\u001b[0m\u001b[0;34m,\u001b[0m\u001b[0mrunning_x\u001b[0m\u001b[0;34m[\u001b[0m\u001b[0;34m:\u001b[0m\u001b[0;34m,\u001b[0m\u001b[0;36m1\u001b[0m\u001b[0;34m]\u001b[0m\u001b[0;34m)\u001b[0m\u001b[0;34m\u001b[0m\u001b[0;34m\u001b[0m\u001b[0m\n",
            "\u001b[0;31mIndexError\u001b[0m: too many indices for array: array is 1-dimensional, but 2 were indexed"
          ]
        },
        {
          "output_type": "display_data",
          "data": {
            "text/plain": [
              "<Figure size 720x720 with 1 Axes>"
            ],
            "image/png": "[encoded data removed]"
          },
          "metadata": {
            "needs_background": "light"
          }
        }
      ]
    },
    {
      "cell_type": "markdown",
      "metadata": {
        "id": "xRwC0PcnNjS_"
      },
      "source": [
        "### Bonus: Plot timings to converge among the three above results"
      ]
    },
    {
      "cell_type": "code",
      "execution_count": null,
      "metadata": {
        "id": "npY3CTTMNjS_"
      },
      "outputs": [],
      "source": [
        ""
      ]
    }
  ],
  "metadata": {
    "kernelspec": {
      "display_name": "Python 3.7.7",
      "language": "python",
      "name": "python3"
    },
    "language_info": {
      "name": "python",
      "version": "3.7.7"
    },
    "orig_nbformat": 4,
    "vscode": {
      "interpreter": {
        "hash": "af906c41bb6ac3461243f3930fe52789dec1f32a15971855935a7dc5dad7a93a"
      }
    },
    "colab": {
      "name": "assignment.ipynb",
      "provenance": [],
      "collapsed_sections": [],
      "include_colab_link": true
    }
  },
  "nbformat": 4,
  "nbformat_minor": 0
}